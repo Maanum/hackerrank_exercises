{
 "cells": [
  {
   "cell_type": "markdown",
   "metadata": {},
   "source": [
    "Given the names and grades for each student in a Physics class of N students, store them in a nested list\n",
    "and print the name(s) of any student(s) having the second lowest grade.\n",
    "\n",
    "_Note: If there are multiple students with the same grade, order their names alphabetically and print each\n",
    "name on a new line._\n",
    "\n",
    "### Input Format\n",
    "The first line contains an integer, N, the number of students.\n",
    "The 2N subsequent lines describe each student over 2 lines; the first line contains a student's name, and\n",
    "the second line contains their grade.\n",
    "\n",
    "### Constraints\n",
    "- 2 <= N <= 5\n",
    "- There will always be one or more students having the second lowest grade.\n",
    "\n",
    "### Output Format\n",
    "Print the name(s) of any student(s) having the second lowest grade in Physics; if there are multiple\n",
    "students, order their names alphabetically and print each one on a new line.\n",
    "\n",
    "### Sample Input 0\n",
    "\n",
    "```\n",
    "5\n",
    "Harry\n",
    "37.21\n",
    "Berry\n",
    "37.21\n",
    "Tina\n",
    "37.2\n",
    "Akriti\n",
    "41\n",
    "Harsh\n",
    "39\n",
    "```\n",
    "\n",
    "### Sample Output 0\n",
    "```\n",
    "Berry\n",
    "Harry\n",
    "```\n",
    "\n",
    "### Explanation 0\n",
    "There are 5 students in this class whose names and grades are assembled to build the following list:\n",
    "\n",
    "`python students = [['Harry', 37.21], ['Berry', 37.21], ['Tina', 37.2], ['Akriti', 41], ['Harsh', 39]]`\n",
    "\n",
    "The lowest grade of 37.2 belongs to Tina. The second lowest grade of37.21 belongs to both Harry and\n",
    "Berry, so we order their names alphabetically and print each name on a new line.\n",
    "\n",
    "### Default Code\n",
    "\n",
    "```python\n",
    "if __name__ == '__main__':\n",
    "    for _ in range(int(input())):\n",
    "        name = input()\n",
    "        score = float(input())\n",
    "```"
   ]
  },
  {
   "cell_type": "markdown",
   "metadata": {},
   "source": [
    "### Solution"
   ]
  },
  {
   "cell_type": "markdown",
   "metadata": {},
   "source": [
    "#### Prep Input Data"
   ]
  },
  {
   "cell_type": "code",
   "execution_count": 33,
   "metadata": {},
   "outputs": [],
   "source": [
    "input_n = 5\n",
    "input_data = [[\"Harry\", 37.21],\n",
    "[\"Berry\", 37.21],\n",
    "[\"Tina\", 37.2],\n",
    "[\"Akriti\", 41],\n",
    "[\"Harsh\", 39]]"
   ]
  },
  {
   "cell_type": "markdown",
   "metadata": {},
   "source": [
    "#### Get Input Data"
   ]
  },
  {
   "cell_type": "code",
   "execution_count": 34,
   "metadata": {},
   "outputs": [],
   "source": [
    "entries = []\n",
    "\n",
    "# Maintain input population format\n",
    "for n in range(input_n):\n",
    "    name = input_data[n][0]\n",
    "    score = float(input_data[n][1])\n",
    "    \n",
    "    #Construct inputs list as it comes in\n",
    "    entries.append((name, score))"
   ]
  },
  {
   "cell_type": "markdown",
   "metadata": {},
   "source": [
    "#### Process and Print Result"
   ]
  },
  {
   "cell_type": "code",
   "execution_count": 35,
   "metadata": {},
   "outputs": [
    {
     "name": "stdout",
     "output_type": "stream",
     "text": [
      "Berry\n",
      "Harry\n"
     ]
    }
   ],
   "source": [
    "second_lowest_score = sorted({x[1] for x in entries})[1]\n",
    "second_lowest_scorers = sorted([x[0] for x in entries if x[1] == second_lowest_score])\n",
    "for name in second_lowest_scorers:\n",
    "    print(name)"
   ]
  },
  {
   "cell_type": "code",
   "execution_count": null,
   "metadata": {},
   "outputs": [],
   "source": []
  }
 ],
 "metadata": {
  "kernelspec": {
   "display_name": "Python 3",
   "language": "python",
   "name": "python3"
  },
  "language_info": {
   "codemirror_mode": {
    "name": "ipython",
    "version": 3
   },
   "file_extension": ".py",
   "mimetype": "text/x-python",
   "name": "python",
   "nbconvert_exporter": "python",
   "pygments_lexer": "ipython3",
   "version": "3.8.5"
  }
 },
 "nbformat": 4,
 "nbformat_minor": 4
}
