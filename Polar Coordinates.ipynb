{
 "cells": [
  {
   "attachments": {
    "image.png": {
     "image/png": "[encoded data removed]"
    }
   },
   "cell_type": "markdown",
   "id": "e1d7c7ba",
   "metadata": {},
   "source": [
    "# Problem\n",
    "**Polar coordinates** are an alternative way of representing Cartesian coordinates or Complex Numbers.\n",
    "\n",
    "A complex number _z_\n",
    "\n",
    "_z_ = _x_ + _yj_\n",
    "\n",
    "is completely determined by its real part _x_ and imaginary part _y_.\n",
    "Here, _j_ is the imaginary unit.\n",
    "\n",
    "![image.png](attachment:image.png)\n",
    "\n",
    "A polar coordinate (_r_, _a_) is completely determined by modulus _r_ and phase angle _a_.\n",
    "\n",
    "If we convert complex number _z_ to its polar coordinate, we find:\n",
    "\n",
    "_r_: Distance from _z_ to origin, i.e. pythagorean thoerem,\n",
    "\n",
    "_a_: Counter clockwise angle measured from the positive _x_-axis to the line segment that joins _z_ to the origin.\n",
    "\n",
    "Python's cmath module provides access to the mathematical functions for complex numbers.\n",
    "\n",
    "_cmath.phase_\n",
    "This tool returns the phase of complex number _z_ (also known as the argument of _z_).\n",
    "\n",
    "```python\n",
    ">>> phase(complex(-1.0, 0.0))\n",
    "3.1415926535897931\n",
    "```\n",
    "\n",
    "_abs_\n",
    "This tool returns the modulus (absolute value) of complex number .\n",
    "```python\n",
    ">>> abs(complex(-1.0, 0.0))\n",
    "1.0\n",
    "```\n",
    "\n",
    "### Task\n",
    "You are given a complex _z_. Your task is to convert it to polar coordinates.\n",
    "\n",
    "### Input Format\n",
    "\n",
    "A single line containing the complex number _z_. Note: complex() function can be used in python to convert the input as a complex number.\n",
    "\n",
    "### Constraints\n",
    "\n",
    "Given number is a valid complex number\n",
    "\n",
    "### Output Format\n",
    "\n",
    "Output two lines:\n",
    "The first line should contain the value of _r_.\n",
    "The second line should contain the value of _a_.\n",
    "\n",
    "### Sample Input\n",
    "```\n",
    "1+2j\n",
    "```\n",
    "\n",
    "### Sample Output\n",
    "```\n",
    " 2.23606797749979 \n",
    " 1.1071487177940904\n",
    "```\n",
    "Note: The output should be correct up to 3 decimal places."
   ]
  },
  {
   "cell_type": "code",
   "execution_count": null,
   "id": "b146969c",
   "metadata": {},
   "outputs": [],
   "source": []
  }
 ],
 "metadata": {
  "kernelspec": {
   "display_name": "Python 3",
   "language": "python",
   "name": "python3"
  },
  "language_info": {
   "codemirror_mode": {
    "name": "ipython",
    "version": 3
   },
   "file_extension": ".py",
   "mimetype": "text/x-python",
   "name": "python",
   "nbconvert_exporter": "python",
   "pygments_lexer": "ipython3",
   "version": "3.8.5"
  }
 },
 "nbformat": 4,
 "nbformat_minor": 5
}
